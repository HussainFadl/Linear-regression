{
 "cells": [
  {
   "cell_type": "code",
   "execution_count": 2,
   "id": "18d3bf5c-87e4-4aa8-a0ad-3e0783fbb9e4",
   "metadata": {},
   "outputs": [],
   "source": [
    "import numpy as np"
   ]
  },
  {
   "cell_type": "code",
   "execution_count": 3,
   "id": "69268416-ebe3-4cfd-82f1-60b864872f45",
   "metadata": {},
   "outputs": [],
   "source": [
    "import math"
   ]
  },
  {
   "cell_type": "code",
   "execution_count": 4,
   "id": "6f261ceb-d0dc-47c2-9823-dd139871281f",
   "metadata": {},
   "outputs": [],
   "source": [
    "import os"
   ]
  },
  {
   "cell_type": "code",
   "execution_count": 5,
   "id": "a0136aae-bee4-4aa1-afbd-22b85990cd4c",
   "metadata": {},
   "outputs": [],
   "source": [
    "import pandas as pd"
   ]
  },
  {
   "cell_type": "markdown",
   "id": "63049adb-e961-4d8d-89ef-6c2358ab54b1",
   "metadata": {},
   "source": [
    "Linear regression is a definite classic among the countless machine learning methods borrowed from statistics. Among the more recent methods that have been invented by computer scientists, the co-called, nearest neighbor method is an equally classic technique ....\n",
    "\n",
    "The nearest neighbor method is just about the simplest imaginable method. However, it is not to be trifled with: an aspiring machine learning researcher tends to humbled now and then by having their latest inventions beaten by the good old nearest neighbor method.\n",
    "\n",
    "The nearest neighbor method can be used for both regression and classification tasks. In regression, the task is to predict a continuous value like for example the price of a cabin whereas in classification, the output is a label chosen from a finite set of alternatives, for example sick or health.\n",
    "\n",
    "In order to quantify how close an item is to another, we need to define a _distance metric_. The analogy amplied by the word is pretty obvious: in everyday life you can say that Helsinki is closer to Stockholm  than it is to newyork, by calculating how many meters apart they are.\n",
    "\n",
    "The distance is calculated over a two dimesional terrian. To simplify matters, we can pretend that the surface is flat, and that the location of each city is expressed in a so-called Cartesian coordinate system. This way, distances can be calculated by adding up the suares of differences in the x and y coordinates, and taking the squar root of the sum. for example the distance between Helsinki and NewYork would then be:\n",
    "$$\n",
    "D_{\\text{HEL, NY}} = \\sqrt{(X_{\\text{HEL}} - x_{\\text{NY}})^2 + (Y_{\\text{HEL}} - Y_{\\text{NY}})^2}\n",
    "$$\n"
   ]
  },
  {
   "cell_type": "markdown",
   "id": "fe7c40a5-4aa4-4cf9-a0f7-8c48588e92fc",
   "metadata": {},
   "source": [
    "Where $X_{\\text{HEL}}$, $Y_{\\text{HEL}}$ are the coordinates of Helsinki and $X_{\\text{NY}}$, $Y_{\\text{NY}}$ are the coordinates of NewYork. This is called _Euclidean distance_ . Especially for long distances. it dose't actually give the real distance becuase of the curvature of the surface of the earth, but this is of no consequence for us because we will be using it on abstarct, non-geographical coordinates."
   ]
  },
  {
   "cell_type": "markdown",
   "id": "1c7d03f8-c569-44c8-844f-5b9b23ceda13",
   "metadata": {},
   "source": [
    "$Euclidean$ $Distance$ is the measure of the stright-line distance between two points in Euclidean space. It is the most commonly used distance metric and corresponds to our intuative understanding of distance in the physical world ........"
   ]
  },
  {
   "cell_type": "markdown",
   "id": "f1d54f11-3ccd-44a3-9064-3c6361de7284",
   "metadata": {},
   "source": [
    "Perhaps you'll find it easier to read this in terms of the following Python expression:"
   ]
  },
  {
   "cell_type": "code",
   "execution_count": 6,
   "id": "657635b7-39ca-4444-abf4-3ac1b529f75d",
   "metadata": {},
   "outputs": [],
   "source": [
    "x_hel = 34\n",
    "x_ny  = 49\n",
    "y_hel = 10\n",
    "y_ny  = 50 \n",
    "D = math.sqrt((x_hel - x_ny) ** 2) + ((y_hel - y_ny) ** 2)"
   ]
  },
  {
   "cell_type": "markdown",
   "id": "019164c7-5c54-4f0e-990a-b2d2226365fa",
   "metadata": {},
   "source": [
    "They mean exactely the same thing ....\n",
    "\n",
    "Analogously, we could calculate the difference or \"distances\" between cabin1 with 34${m^2}$ 10 meters from the lake, and cabin2 with 49${m^2}$ and 50 meters from a lake, by considering the size in square meters, the distance to a lake and any other input features there are as the coordinates. With the above two features, the distance between cabin1 and cabin2 would become: $$D_{\\text1,2} = \\sqrt{(34-49)^2 + {(10-50)^2}}$$"
   ]
  },
  {
   "cell_type": "code",
   "execution_count": 7,
   "id": "58b04454-4b67-4455-97ed-ce0030155a83",
   "metadata": {},
   "outputs": [],
   "source": [
    "D1_2 = math.sqrt(((34 - 49) ** 2) + ((10 - 50) ** 2))"
   ]
  },
  {
   "cell_type": "code",
   "execution_count": 8,
   "id": "80971011-18b9-4554-8080-107ce195ec1c",
   "metadata": {},
   "outputs": [
    {
     "data": {
      "text/plain": [
       "42.72"
      ]
     },
     "execution_count": 8,
     "metadata": {},
     "output_type": "execute_result"
    }
   ],
   "source": [
    "round(D1_2, 3)"
   ]
  },
  {
   "cell_type": "code",
   "execution_count": 9,
   "id": "a40c3fe9-2d38-4da0-a052-e6504749ae29",
   "metadata": {},
   "outputs": [],
   "source": [
    "# In Python code, we could write the above as \n",
    "cabin1 =np.array([34, 10])\n",
    "cabin2 = np.array([49, 50])\n"
   ]
  },
  {
   "cell_type": "code",
   "execution_count": 10,
   "id": "4bb0f212-71d7-42bc-9665-d16015c15e26",
   "metadata": {},
   "outputs": [],
   "source": [
    "D = math.sqrt((cabin1[0] - cabin2[0]) ** 2 + (cabin1[1] - cabin2[1]) ** 2)"
   ]
  },
  {
   "cell_type": "code",
   "execution_count": 11,
   "id": "e89e2f4f-d1f2-40d9-bf31-dbcf0dbfa729",
   "metadata": {},
   "outputs": [
    {
     "data": {
      "text/plain": [
       "42.72"
      ]
     },
     "execution_count": 11,
     "metadata": {},
     "output_type": "execute_result"
    }
   ],
   "source": [
    "round(D, 3)"
   ]
  },
  {
   "cell_type": "markdown",
   "id": "f4a177e1-bba7-4ced-8488-7c8b6ddab909",
   "metadata": {},
   "source": [
    "We could also incorporate the number of bathroms et cetra to the distance calculation just by including the squared difference in the number of the bathrooms in the sum inside the quare root.\n",
    "\n",
    "Mathematically, we'd call the lists of input features vector. In coding terms, they are lists or one-dimenstional arrays.\n",
    "\n"
   ]
  },
  {
   "cell_type": "markdown",
   "id": "1893f3e0-9dbf-4e1e-b7ac-de90452588f7",
   "metadata": {},
   "source": [
    "Here is a short piece of code, using the same cabin pricing data as in previous section. It uses training data from four cabins to predict the prices of two more cabins in the test data."
   ]
  },
  {
   "cell_type": "code",
   "execution_count": 12,
   "id": "5d6c95a5-0c1e-47ee-a26d-dab333cee025",
   "metadata": {},
   "outputs": [],
   "source": [
    "import math\n",
    "import numpy as np"
   ]
  },
  {
   "cell_type": "code",
   "execution_count": 13,
   "id": "cf0da846-76b4-445f-8355-8df81d58dc9b",
   "metadata": {},
   "outputs": [
    {
     "name": "stdout",
     "output_type": "stream",
     "text": [
      "222100\n"
     ]
    }
   ],
   "source": [
    "\n",
    "x_train = np.array([\n",
    "    [25, 2, 50, 1, 500],\n",
    "    [39, 3, 10, 1, 1000],\n",
    "    [82, 5, 20, 2, 120],\n",
    "    [130, 6, 10, 2, 600]\n",
    "])\n",
    "\n",
    "y_train = [127900, 222100, 268000, 460700]\n",
    "\n",
    "x_test  = np.array([[115, 6, 10, 1, 560], [13, 2, 13, 1, 1000]])\n",
    "\n",
    "def dist(a, b):\n",
    "    sum = 0\n",
    "    for ai, bi in zip(a, b):\n",
    "        sum = sum + (ai - bi) ** 2\n",
    "    return np.sqrt(sum)\n",
    "\n",
    "n_train = len(x_train) # number of data points in the training data set\n",
    "\n",
    "for test_item in x_test:\n",
    "    d = np.empty(n_train) # d will hold the distances between this test data point and all the training data points\n",
    "    for i, train_item in enumerate(x_train):\n",
    "        d[i] = dist(test_item, train_item)\n",
    "        nearest_index = np.argmin(d) #the nearest neighbor will be in y_train(nearest)\n",
    "        #the argmin() functionused to find the index of the minimum value in array\n",
    "#or in a sequence this method is avaliable in Numpy library, which is widely\n",
    "#used in numerical and scientific compution  .....\n",
    "\n",
    "print(y_train[nearest_index])"
   ]
  },
  {
   "cell_type": "markdown",
   "id": "b34c2865-847e-4e04-b949-63f3cc13a08b",
   "metadata": {},
   "source": [
    "Let's dissect the code a bit....\n",
    "\n",
    "The outer for loop goes through the two test data items (x_test). For each test data item we calculate the distance to each of the training data items in the inner loop.\n",
    "\n",
    "To calculate the distances, we've defined the function (dist). We then find the index of the item with the shortest distance using the np.argmin() function. This is the nearest neighbor."
   ]
  },
  {
   "cell_type": "markdown",
   "id": "94de8218-585f-4350-a8de-6778990485e6",
   "metadata": {},
   "source": [
    "If you look at the output of the above program, you'll notice that the prices predicted for the two test data items are 460700 euros, and 222100 euros.\n",
    "\n",
    "When comparing the cabins the price for the first test item seems reasonable: it is the price of the last raining data set cabin, which is a similar large cabin. \n",
    "\n",
    "But the price of the second test cabin is the price of the second training set cabin, even though it would make intutively more sense for the first cabin in the training set to be the closest since they are of a similar size. Why was the second cabin then selected as the nearest neighbor?\n",
    "\n",
    "As we mensioned, the distances are calculated using the Euclidean distance, which is the common straight-line  distance of geometery. In this case, the vectors whose distance we are evaluating are defined by numerical values of the five features.\n",
    "\n",
    "In the case of the cabins, the sizes range between 13 and 130 aquare meters, while the distance to the closest neighboring cabin range between 120 and 1000 meters, so it is clear that when comparing just the numerical values, the differences in distances are much bigger than the differences in the sizes.\n",
    "\n",
    "In fact, in the above case , the nearest neighbor of the 13 square meters cabin would have been the same 39 quare meters cabin if we had only done the comparison based on the proximity of neighboring cabins alone."
   ]
  },
  {
   "cell_type": "markdown",
   "id": "810fed18-205b-4410-8923-23c43ffa2f9a",
   "metadata": {},
   "source": [
    "### Note:\n",
    "# Which distance??\n",
    "\n",
    "The slightly odd thing about the Euclidean distance to compare cabins is that each dimension (or feature) is comapred using the same scale. In other words, the distance between two otherwise identical cabins whose sizes differ by 100 square meters is the same as the distance between two otherwise identical cabins where one has neighbors 900 meters away.\n",
    "\n",
    "This might feela little stange since a 100-meters  difference in this cases may be considered relatively insignificant compared to a 100 square meters size difference. Moreover, we could have decided to measure the are in quare feet, in which case the difference of 100 units would have been even less significant, or in fact in square inches(one square meter is 1550 square inches).\n",
    "\n",
    "This is indeed an issue that has great practical significance. The difinition of \"distance\"  can make a big difference to the accuracy of the nearest neighbor method. Often the featuresare scaled so that they all have the same variance and therefore, roughly the same weight or importance in the distance calculations.\n",
    "\n",
    "The Euclidean distanceis of course just one of many different diatnce metrics. One simple and easily understandable (thoguh maybe not the most often used) metric is called Manhattan or(taxicab) metric, where the distance is calculated by considering only the obsolutedifferences in coordinates. Think of a grid-like city with equal sized blocks: it dose not matter what your choice of route is given that you are always moving closer to your goal in either directions."
   ]
  },
  {
   "cell_type": "markdown",
   "id": "4a4d2f48-d489-430e-b72e-9fd56e179a66",
   "metadata": {},
   "source": [
    "# The Yle Areena content recommender:\n",
    "\n",
    "All of us  are familiar with content recommendation systems.\n",
    "This is fine foe most for-profit entertainment companies. But as a public broadcaster, the mission of the Finnish public broadcasting company Yle is to serve the public interest - which requires a broader range of content. With that in mind, Yle decided to build a system that recommends a diverse but still relevant range of shows to viewers who use Yle Areena\n",
    ", an online content Algorithm.\n",
    "\n",
    "#### Personalization that serves a purpose:\n",
    "\n",
    "in order to create relevant but diverse content recommendations, AI methods based on optimization and machine learning were key. The starting point was to use an exiting algorithm based on collaborative filtering to take care of the content recommendations. The algorithm was then adjusted to ensure it didn't just recommend only the most popular content from generic categories like drama, but would also suggest a broader range of shows.\n",
    "\n",
    "\n",
    "#### AI method used:\n",
    "\n",
    "* collabrative filtering algorithms\n",
    "* Deep learning\n",
    "* Reinforcement learning\n",
    "\n",
    "#### Insights from a data scientist:\n",
    "\n",
    "\"When you work on ongoing project that lasts for many years, you encounter different kinds of challenges than those in a one-off project. In our case, the content recommender was working well for our viewers, but we found our selves having to explain to people inside the company why the algorithm was recommending what it did. In the end, we ended up building a dashboard for internal use so the editorial staff at Yle could see in real time why certain types of content are recommended.\n",
    "\n",
    "It is a good lesson to remmeber - it is not enough to just create a good algorithm and clear UI, you also need to be able to explain how the algorithm works and why it is truthworthy.\n",
    "\n",
    "This project also raises interesting ethical questions. One of our goals was to ensure that more diverse content is recommended. When we first started, we used a commonly known algorithm used by for example the most popular platforms, but we noticed in out a/b test that it worked best only with drama and entertainment content. That is why we had to develop and implement a more Yle-specific recommendation system that would not ignore educational and cultural content. And it worked - last year we managed to increase our diversity index (a measure of how many types of content are being viewd) while still delivering relevant content to our users\n",
    "\n",
    "                           _Jaakko Lempinen, Head of AI at Yle_"
   ]
  },
  {
   "cell_type": "code",
   "execution_count": null,
   "id": "ae161856-7117-477c-a9e6-e11624926b69",
   "metadata": {},
   "outputs": [],
   "source": []
  }
 ],
 "metadata": {
  "kernelspec": {
   "display_name": "Python 3 (ipykernel)",
   "language": "python",
   "name": "python3"
  },
  "language_info": {
   "codemirror_mode": {
    "name": "ipython",
    "version": 3
   },
   "file_extension": ".py",
   "mimetype": "text/x-python",
   "name": "python",
   "nbconvert_exporter": "python",
   "pygments_lexer": "ipython3",
   "version": "3.8.19"
  }
 },
 "nbformat": 4,
 "nbformat_minor": 5
}
