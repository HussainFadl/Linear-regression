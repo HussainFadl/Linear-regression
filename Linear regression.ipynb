{
 "cells": [
  {
   "cell_type": "markdown",
   "id": "96f2c10d-b902-48a9-ad3c-81215221a605",
   "metadata": {},
   "source": [
    "$$ Linear Regression $$"
   ]
  },
  {
   "cell_type": "markdown",
   "id": "3496ed91-cebe-4880-ae09-a36eaab9043d",
   "metadata": {},
   "source": [
    "Linear regression is the core and the execution of machine learning....\n",
    "\n",
    "The types of machine learning:\n",
    "\n",
    "**A) Supervised Learning :**\n",
    "\n",
    "In supervised learning you know what the answer is, and you try to build a model to generate correct answer based on the answer which you already knew and prepared for the model.....\n",
    "* predictive model based on what already known\n",
    "A supervised learning problem is * classification problem (I have photo)\n",
    "                                 * regression problem (I have historical data).\n",
    "\n",
    "**B) Unsupervised learning:**\n",
    "\n",
    "In an unsupervised learning setting there is no answer, your model tries to find strucutre in your data, OR generate representations of your data based on GROUPING between the data intact with each other.\n",
    "\n",
    "**C) Reinforcement learning:**\n",
    "\n",
    "Reinforcement learning is probably the closest to what most people think of (in board terms) when it comes to Artificail Intelligence.\n",
    "\n",
    "In Reinforcement learning you have \"agents\" that operate in environment in way that maximizes some some kind of reward.\n",
    "\n",
    "Reinfocement learning involves learning from the sequences of actions, through a process of trial and error.\n"
   ]
  },
  {
   "cell_type": "markdown",
   "id": "e4a27da4-bb98-4645-839a-b11b2cd26125",
   "metadata": {},
   "source": [
    "**Linear Regression:**\n",
    "\n",
    "The general problem for which linear regression is one solution among many, is regression.\n",
    "\n",
    "The task is to predict a numerical value given a set of input values.\n",
    "\n",
    "INPUT is the data given to the model, OUTPUT is the prediction or the reponse of the model.\n",
    "\n",
    "In Linear regression, the prediction is calculated by using __linear model__ where __each increament of a feature (Coefficient) that is variable by somefixed amount, increases or decreases the predicted output by the same amount__"
   ]
  },
  {
   "cell_type": "markdown",
   "id": "544fe143-fa04-492f-909f-b78ef00b9035",
   "metadata": {},
   "source": [
    "The formula used in linear regression in an example case with three variables and three coefficients has the form $ c1 * x1 + c2 * x2 + c3 * x3 $, where there are three coefficients c1, c2, c3 that correspond to three input x1,x2,and x3.\n",
    "\n",
    "The increase in the prediction resulting from increasing one of the inputs by one unit is given by the corresponding coefficient.\n",
    "\n",
    "The numbers of the inputs dosen't have to be three, the number of the coefficients must be the same as the inputs.\n",
    "\n",
    "Often we include a so-called intercept term in the model too, in which case it becomes like ...\n",
    "\n",
    "$a + c1 * x1 + c2 * x2 + c3 * x3 $\n",
    "\n",
    "Where a is the intercept term is to make it possible to increment (or reduce if the intercept value is negative) the predicted values by a constant amount independently of the inputs....\n",
    "\n",
    "Below an example of the toursim cabins prices based on cabin details (Model inputs) such as Size $(66 {m^2})$, Size of the sauna $(5 {m^2})$, distance to the water $15 m$, number of indoor toilets $(2)$, and the proximity of the nearest neigbour $(500 m)$ are specified as the elements of the list x.\n",
    "\n",
    "The crossponding coefficients are specified in the list of c "
   ]
  },
  {
   "cell_type": "code",
   "execution_count": 87,
   "id": "c3af546b-770c-4285-8e24-684dbdac44d5",
   "metadata": {},
   "outputs": [
    {
     "name": "stdout",
     "output_type": "stream",
     "text": [
      "258250\n"
     ]
    }
   ],
   "source": [
    "# input values of one mokkis : size, sauna size, distance to water, \n",
    "# indoor bathrooms number, proximity to neigbour \n",
    "x = [66, 5, 15, 2, 500]\n",
    "c = [3000, 200, -50, 5000, 100] #coefficient values \n",
    "\n",
    "predictions = c[0]*x[0] + c[1]*x[1] + c[2]*x[2] + c[3]*x[3] + c[4]*x[4]\n",
    "print(predictions)\n"
   ]
  },
  {
   "cell_type": "markdown",
   "id": "c8476d2d-b611-478f-bfaa-299e990e6d82",
   "metadata": {},
   "source": [
    "Recalculate the prediction using the following data inputs and theior coefficients.....\n",
    "\n",
    "Size $85{m^2}$, Sauna size $10{m^2}$, Distance to lake $15 m$, number of indoor toilets $1$, distance to next neighbor $100m$"
   ]
  },
  {
   "cell_type": "code",
   "execution_count": 88,
   "id": "a7a2ccef-4770-4d73-8a91-829d5464ea07",
   "metadata": {},
   "outputs": [
    {
     "name": "stdout",
     "output_type": "stream",
     "text": [
      "271250\n"
     ]
    }
   ],
   "source": [
    "# input values of one mokkis : size, sauna size, distance to water, \n",
    "# indoor bathrooms number, proximity to neigbour \n",
    "x = [85, 10, 15, 1, 100]\n",
    "c = [3000, 200, -50, 5000, 100] #coefficient values \n",
    "\n",
    "predictions = c[0]*x[0] + c[1]*x[1] + c[2]*x[2] + c[3]*x[3] + c[4]*x[4]\n",
    "print(predictions)"
   ]
  },
  {
   "cell_type": "code",
   "execution_count": 89,
   "id": "0cf49cb7-c6d4-48e9-8e7c-139eb31b1249",
   "metadata": {},
   "outputs": [
    {
     "data": {
      "text/plain": [
       "255000"
      ]
     },
     "execution_count": 89,
     "metadata": {},
     "output_type": "execute_result"
    }
   ],
   "source": [
    "# cabin size\n",
    "85 * 3000"
   ]
  },
  {
   "cell_type": "code",
   "execution_count": 90,
   "id": "e78cdd96-a0dd-4487-aa56-01744657ccff",
   "metadata": {},
   "outputs": [
    {
     "data": {
      "text/plain": [
       "2000"
      ]
     },
     "execution_count": 90,
     "metadata": {},
     "output_type": "execute_result"
    }
   ],
   "source": [
    "#Sauna Size \n",
    "10 * 200"
   ]
  },
  {
   "cell_type": "code",
   "execution_count": 91,
   "id": "1ff4bdc7-9480-4481-9709-c84baa32afcb",
   "metadata": {},
   "outputs": [
    {
     "data": {
      "text/plain": [
       "-750"
      ]
     },
     "execution_count": 91,
     "metadata": {},
     "output_type": "execute_result"
    }
   ],
   "source": [
    "# distance to lake \n",
    "15 * -50"
   ]
  },
  {
   "cell_type": "code",
   "execution_count": 92,
   "id": "53226103-9fc8-45e0-b0f9-aa9748c160da",
   "metadata": {},
   "outputs": [
    {
     "data": {
      "text/plain": [
       "5000"
      ]
     },
     "execution_count": 92,
     "metadata": {},
     "output_type": "execute_result"
    }
   ],
   "source": [
    "# indoor toilets number \n",
    "1 * 5000"
   ]
  },
  {
   "cell_type": "code",
   "execution_count": 93,
   "id": "49b0c548-ec88-40d7-b0ca-3bb456b3a003",
   "metadata": {},
   "outputs": [
    {
     "data": {
      "text/plain": [
       "10000"
      ]
     },
     "execution_count": 93,
     "metadata": {},
     "output_type": "execute_result"
    }
   ],
   "source": [
    "# distance to neighbour\n",
    "100 * 100"
   ]
  },
  {
   "cell_type": "markdown",
   "id": "127c815f-25f9-40e7-b61d-21ba39abff6c",
   "metadata": {},
   "source": [
    "Again Recalculate using the following input data for your model .....\n",
    "\n",
    "Size $155{m^2}$, Sauna size $15{m^2}$, Distance to lake $5{m}$, Indoor toilets number $1$, distance to the nearest nieghbor $200m$"
   ]
  },
  {
   "cell_type": "code",
   "execution_count": 94,
   "id": "99156a81-f55f-40cb-861b-9d96de6e6190",
   "metadata": {},
   "outputs": [
    {
     "name": "stdout",
     "output_type": "stream",
     "text": [
      "492750\n"
     ]
    }
   ],
   "source": [
    "# input values of one mokkis : size, sauna size, distance to water, \n",
    "# indoor bathrooms number, proximity to neigbour \n",
    "x = [155, 15, 5, 1, 200]\n",
    "c = [3000, 200, -50, 5000, 100] #coefficient values \n",
    "\n",
    "predictions = c[0]*x[0] + c[1]*x[1] + c[2]*x[2] + c[3]*x[3] + c[4]*x[4]\n",
    "print(predictions)"
   ]
  },
  {
   "cell_type": "code",
   "execution_count": 95,
   "id": "95b60a2d-18c3-42b9-9355-b893f814f94d",
   "metadata": {},
   "outputs": [
    {
     "data": {
      "text/plain": [
       "465000"
      ]
     },
     "execution_count": 95,
     "metadata": {},
     "output_type": "execute_result"
    }
   ],
   "source": [
    "155 * 3000 # Cabin Size"
   ]
  },
  {
   "cell_type": "code",
   "execution_count": 96,
   "id": "ae2018ab-a89d-4c2a-9878-6ee0e066af35",
   "metadata": {},
   "outputs": [
    {
     "data": {
      "text/plain": [
       "3000"
      ]
     },
     "execution_count": 96,
     "metadata": {},
     "output_type": "execute_result"
    }
   ],
   "source": [
    "15 * 200 # Sauna size"
   ]
  },
  {
   "cell_type": "code",
   "execution_count": 97,
   "id": "31a8e5ba-35a1-4cd0-9c08-f5ec717261ba",
   "metadata": {},
   "outputs": [
    {
     "data": {
      "text/plain": [
       "-250"
      ]
     },
     "execution_count": 97,
     "metadata": {},
     "output_type": "execute_result"
    }
   ],
   "source": [
    "5 * -50 #Distance to lake\n"
   ]
  },
  {
   "cell_type": "code",
   "execution_count": 98,
   "id": "a10314ed-0ee3-437f-97c3-7d0dcd5ef322",
   "metadata": {},
   "outputs": [
    {
     "data": {
      "text/plain": [
       "5000"
      ]
     },
     "execution_count": 98,
     "metadata": {},
     "output_type": "execute_result"
    }
   ],
   "source": [
    "1 * 5000\n",
    " # indoor toilets"
   ]
  },
  {
   "cell_type": "code",
   "execution_count": 99,
   "id": "7226c98e-fbdf-496c-8cd7-ec0fa5059c57",
   "metadata": {},
   "outputs": [
    {
     "data": {
      "text/plain": [
       "20000"
      ]
     },
     "execution_count": 99,
     "metadata": {},
     "output_type": "execute_result"
    }
   ],
   "source": [
    "200 * 100\n",
    "# neighbour proximity"
   ]
  },
  {
   "cell_type": "markdown",
   "id": "651c16f3-f235-40b1-952d-e6910c5f2449",
   "metadata": {},
   "source": [
    "$$ CONGRATULATIONS $$"
   ]
  },
  {
   "cell_type": "code",
   "execution_count": 100,
   "id": "8cffad78-0a5f-4d27-bd36-ac9731a888c0",
   "metadata": {},
   "outputs": [],
   "source": [
    "import numpy as np"
   ]
  },
  {
   "cell_type": "code",
   "execution_count": 101,
   "id": "97e3ff84-2b3a-4495-9d9b-99fe34b06922",
   "metadata": {},
   "outputs": [],
   "source": [
    "import pandas as pd"
   ]
  },
  {
   "cell_type": "code",
   "execution_count": 102,
   "id": "e766321a-e436-4553-9ea3-6797597e58f9",
   "metadata": {},
   "outputs": [],
   "source": [
    "import matplotlib.pyplot as plt\n"
   ]
  },
  {
   "cell_type": "code",
   "execution_count": 103,
   "id": "e5d3e4e8-25ca-4e01-8447-0436fb3ed240",
   "metadata": {},
   "outputs": [],
   "source": [
    "x = np.array([66, 5, 15,2, 500])\n",
    "c = np.array([3000, 200, -50, 5000, 100])"
   ]
  },
  {
   "cell_type": "code",
   "execution_count": 104,
   "id": "8ad7a5e7-0584-41ad-abd6-679f5a5885bb",
   "metadata": {},
   "outputs": [
    {
     "data": {
      "text/plain": [
       "array([ 66,   5,  15,   2, 500])"
      ]
     },
     "execution_count": 104,
     "metadata": {},
     "output_type": "execute_result"
    }
   ],
   "source": [
    "x"
   ]
  },
  {
   "cell_type": "code",
   "execution_count": 105,
   "id": "57852680-8506-4298-a4a2-4ac7cdd2cf37",
   "metadata": {},
   "outputs": [
    {
     "data": {
      "text/plain": [
       "array([3000,  200,  -50, 5000,  100])"
      ]
     },
     "execution_count": 105,
     "metadata": {},
     "output_type": "execute_result"
    }
   ],
   "source": [
    "c"
   ]
  },
  {
   "cell_type": "code",
   "execution_count": 106,
   "id": "95c71535-4e80-4a46-a406-e8cbf9134e9d",
   "metadata": {},
   "outputs": [
    {
     "name": "stdout",
     "output_type": "stream",
     "text": [
      "258250\n"
     ]
    }
   ],
   "source": [
    "print (x @ c)"
   ]
  },
  {
   "cell_type": "code",
   "execution_count": 107,
   "id": "a4848052-1d53-49d9-a691-58c716192712",
   "metadata": {},
   "outputs": [
    {
     "data": {
      "image/png": "[encoded data removed]",
      "text/plain": [
       "<Figure size 640x480 with 1 Axes>"
      ]
     },
     "metadata": {},
     "output_type": "display_data"
    }
   ],
   "source": [
    "\n",
    "#plot\n",
    "plt.plot([66, 5, 15, 2, 500],[3000, 200, -50, 5000, 100])\n",
    "plt.xlabel('X-axis (INPUTS)')\n",
    "plt.ylabel('Y-axis (Coefficient)')\n",
    "plt.title('Regression Plot')\n",
    "plt.show()\n"
   ]
  },
  {
   "cell_type": "markdown",
   "id": "d20a5f63-a92e-4735-87d0-057a758478b0",
   "metadata": {},
   "source": [
    "This solution works for any numbers of inputs. The @ operator dose the same job as the function called np.dot(x, c). The function name $dot$ comes from the fact in linear algebra, the mathimatical operation of multiplying together the respective elements and adding them up is called a  _\"dot production\"_  "
   ]
  },
  {
   "cell_type": "markdown",
   "id": "93a2ffa1-bcb9-4c1d-b91e-3e843766e652",
   "metadata": {},
   "source": [
    "The beauty of Linear algebra - which is basically the art of operating with _arrays_ (or vectors and matrices as they are called in mathimatics) - shows even better when we apply the above calculations in multiple cases in one go. So instead of editing the program each time to update the data to process the next cabin, and rerunning to get the predictions one at a time, we can collect multiple cases in a two-dimensional array and see what happens...... 💪🏻💪🏻💪🏻"
   ]
  },
  {
   "cell_type": "code",
   "execution_count": 108,
   "id": "05135eb2-bbe6-46c6-843c-c2853d4572be",
   "metadata": {},
   "outputs": [],
   "source": [
    "x = np.array([[66, 5, 15, 2, 500],\n",
    "              [21, 3, 50, 1, 100],\n",
    "              [155, 15, 5, 1, 200]])\n",
    "c = np.array([3000, 200, -50, 5000, 100])"
   ]
  },
  {
   "cell_type": "code",
   "execution_count": 109,
   "id": "f60a8cb7-9835-4f98-9964-b38d7dac966c",
   "metadata": {},
   "outputs": [
    {
     "name": "stdout",
     "output_type": "stream",
     "text": [
      "[258250  76100 492750]\n"
     ]
    }
   ],
   "source": [
    "print(x @ c) # matrices multiplication "
   ]
  },
  {
   "cell_type": "markdown",
   "id": "601de5bb-49a6-4bfd-96ab-c31eae174c65",
   "metadata": {},
   "source": [
    "It works nice ...\n",
    "\n",
    "Notice the double brackets in the row where inputs are assigned to variable x. The array is constructed from a list of lists where each of the two lists contains the five input values for one cabin.\n",
    "\n",
    "The $numpy$ array then becomes two dimensionals or even three dimensionals with each row corresponding to a cabin and each column to an input (for example, the Size in square meters, which is the first column)\n",
    "\n"
   ]
  },
  {
   "cell_type": "code",
   "execution_count": 110,
   "id": "2df7dfd9-06f8-4eea-bea7-e4a98f2f0252",
   "metadata": {},
   "outputs": [
    {
     "data": {
      "text/plain": [
       "array([[ 66,   5,  15,   2, 500],\n",
       "       [ 21,   3,  50,   1, 100],\n",
       "       [155,  15,   5,   1, 200]])"
      ]
     },
     "execution_count": 110,
     "metadata": {},
     "output_type": "execute_result"
    }
   ],
   "source": [
    "x # multi-dimensional arrays ...."
   ]
  },
  {
   "cell_type": "markdown",
   "id": "e1951883-5776-4d06-8d81-e01d23357631",
   "metadata": {},
   "source": [
    "So farwe have used strightforward calculations to obtain price estimates, but that is actually not the most impressive thing you can do with linear regression. Suppose we know the inputs (the features of the cabins)and the outputs (the final predicted prices), and we'd like to estimate the coefficients from data containing the inputs and the output for a number of cabins......."
   ]
  },
  {
   "cell_type": "markdown",
   "id": "8392ae52-0c47-47e1-9c72-ff4d2fa1ccd0",
   "metadata": {},
   "source": [
    "We can hardly ever find coefficients that make the model perfectly predict the outputs in the data because the actual prices also depend on numerous other factors than the ones included in our model as features (Size, sauna size, and so on...). So two cabins with exactly the same features may end up being sold for different proces. \n",
    "\n",
    "Or it may happen that even though the size of a cabin normally has a psoitive dependence (larger means higher price), sometimes a larger cabins is more affordable than asmaller one even if the other features are fixed."
   ]
  },
  {
   "cell_type": "markdown",
   "id": "3477db89-fc92-4e34-a29f-9b397c1d2994",
   "metadata": {},
   "source": [
    "# Note:\n",
    "\n",
    "There are various reasons why models don't generally capture the un derlaying phenomenon. This includes ......\n",
    "\n",
    "* noise (random, unsystematic disturbances),\n",
    "\n",
    "* confounding variables (features that are associated with both the inputs & the outputs),\n",
    "\n",
    "* selection bias (some data points are more likely to end up in data used to build the model than others),\n",
    "\n",
    "* and so on .....\n",
    "\n",
    "This means that you should always be critical about the model and its predictions. this requires understanding the context in which the model is used and the possible biases in the data."
   ]
  },
  {
   "cell_type": "markdown",
   "id": "487b55c8-6cdc-458f-9ed2-eca2ec7b0a46",
   "metadata": {},
   "source": [
    "# The Least Square & Squred Differences\n",
    "\n",
    "_Minimizing the predicted error_\n",
    "\n",
    "The least squre is a statistical concept that discovered in the 1800s, but ir is vital for Artificial Intelligence to adopt methodology from statistics field.....\n",
    "\n",
    "The reason why the method is called least square is that it dose is to optimize the coefficients so as to <u>minimize the squared difference</u> between the outputs of the model and the obsereved response values.\n",
    "\n",
    "We calculate the <u>difference between the predicted and the observed output value </u> for each of the items in the data.\n",
    "\n",
    "Take the square and add them up.\n",
    "\n",
    "the $Coefficients$  are chosen so that this sum of squares is the $least$\n",
    "$possible$ .\n",
    "\n",
    "Hence method of $Least$ $Squares$.The Least Squares methodsolves this problem exactly and efficiently.\n",
    "\n",
    "Technically, this involves some matrix algebra and we won't go into the details .\n",
    "<u> Fortunately, there are plenty of Python packages that have ready - made implementations of it.\n",
    "\n",
    "\n",
    "\n",
    "\n",
    "\n"
   ]
  },
  {
   "cell_type": "markdown",
   "id": "8f899f91-8a46-4020-8c4e-dbc2b64278db",
   "metadata": {},
   "source": [
    "Here is an example of the least squares method. We use five cabins as data. The data is as follows"
   ]
  },
  {
   "cell_type": "code",
   "execution_count": 111,
   "id": "a185af1b-04fe-4e00-9eff-fe5b3288eebe",
   "metadata": {},
   "outputs": [],
   "source": [
    "data = {'size' :[25, 39, 13, 82, 130],\n",
    "               'sauna size' :[2, 3, 2, 5, 6],\n",
    "               'distance to water' :[50, 10, 13, 20, 10],\n",
    "               'idoor bathrooms' :[1, 1, 1, 2, 2],\n",
    "               'neighbor proximity' :[500, 1000, 1000, 120, 600],\n",
    "               'price in euros(output)' :[127900, 222100, 143750, 268000, 460700]}"
   ]
  },
  {
   "cell_type": "code",
   "execution_count": 112,
   "id": "6a94fc15-588b-4f18-8b82-224ffd19eadd",
   "metadata": {},
   "outputs": [
    {
     "data": {
      "text/plain": [
       "{'size': [25, 39, 13, 82, 130],\n",
       " 'sauna size': [2, 3, 2, 5, 6],\n",
       " 'distance to water': [50, 10, 13, 20, 10],\n",
       " 'idoor bathrooms': [1, 1, 1, 2, 2],\n",
       " 'neighbor proximity': [500, 1000, 1000, 120, 600],\n",
       " 'price in euros(output)': [127900, 222100, 143750, 268000, 460700]}"
      ]
     },
     "execution_count": 112,
     "metadata": {},
     "output_type": "execute_result"
    }
   ],
   "source": [
    "data"
   ]
  },
  {
   "cell_type": "code",
   "execution_count": 113,
   "id": "6756d3ed-be1f-4445-8681-e2bf17e1f6c4",
   "metadata": {},
   "outputs": [],
   "source": [
    "index = ['Cabin1', 'Cabin2', 'Cabin3', 'Cabin4', 'Cabin5']"
   ]
  },
  {
   "cell_type": "code",
   "execution_count": 114,
   "id": "bf380e99-9848-493a-9dde-51cdcfa60a7d",
   "metadata": {},
   "outputs": [],
   "source": [
    "cabins_data = pd.DataFrame(data, index)"
   ]
  },
  {
   "cell_type": "code",
   "execution_count": 115,
   "id": "794e9dc4-9c30-462a-bc56-8730bcf89a30",
   "metadata": {},
   "outputs": [
    {
     "data": {
      "text/html": [
       "<div>\n",
       "<style scoped>\n",
       "    .dataframe tbody tr th:only-of-type {\n",
       "        vertical-align: middle;\n",
       "    }\n",
       "\n",
       "    .dataframe tbody tr th {\n",
       "        vertical-align: top;\n",
       "    }\n",
       "\n",
       "    .dataframe thead th {\n",
       "        text-align: right;\n",
       "    }\n",
       "</style>\n",
       "<table border=\"1\" class=\"dataframe\">\n",
       "  <thead>\n",
       "    <tr style=\"text-align: right;\">\n",
       "      <th></th>\n",
       "      <th>size</th>\n",
       "      <th>sauna size</th>\n",
       "      <th>distance to water</th>\n",
       "      <th>idoor bathrooms</th>\n",
       "      <th>neighbor proximity</th>\n",
       "      <th>price in euros(output)</th>\n",
       "    </tr>\n",
       "  </thead>\n",
       "  <tbody>\n",
       "    <tr>\n",
       "      <th>Cabin1</th>\n",
       "      <td>25</td>\n",
       "      <td>2</td>\n",
       "      <td>50</td>\n",
       "      <td>1</td>\n",
       "      <td>500</td>\n",
       "      <td>127900</td>\n",
       "    </tr>\n",
       "    <tr>\n",
       "      <th>Cabin2</th>\n",
       "      <td>39</td>\n",
       "      <td>3</td>\n",
       "      <td>10</td>\n",
       "      <td>1</td>\n",
       "      <td>1000</td>\n",
       "      <td>222100</td>\n",
       "    </tr>\n",
       "    <tr>\n",
       "      <th>Cabin3</th>\n",
       "      <td>13</td>\n",
       "      <td>2</td>\n",
       "      <td>13</td>\n",
       "      <td>1</td>\n",
       "      <td>1000</td>\n",
       "      <td>143750</td>\n",
       "    </tr>\n",
       "    <tr>\n",
       "      <th>Cabin4</th>\n",
       "      <td>82</td>\n",
       "      <td>5</td>\n",
       "      <td>20</td>\n",
       "      <td>2</td>\n",
       "      <td>120</td>\n",
       "      <td>268000</td>\n",
       "    </tr>\n",
       "    <tr>\n",
       "      <th>Cabin5</th>\n",
       "      <td>130</td>\n",
       "      <td>6</td>\n",
       "      <td>10</td>\n",
       "      <td>2</td>\n",
       "      <td>600</td>\n",
       "      <td>460700</td>\n",
       "    </tr>\n",
       "  </tbody>\n",
       "</table>\n",
       "</div>"
      ],
      "text/plain": [
       "        size  sauna size  distance to water  idoor bathrooms  \\\n",
       "Cabin1    25           2                 50                1   \n",
       "Cabin2    39           3                 10                1   \n",
       "Cabin3    13           2                 13                1   \n",
       "Cabin4    82           5                 20                2   \n",
       "Cabin5   130           6                 10                2   \n",
       "\n",
       "        neighbor proximity  price in euros(output)  \n",
       "Cabin1                 500                  127900  \n",
       "Cabin2                1000                  222100  \n",
       "Cabin3                1000                  143750  \n",
       "Cabin4                 120                  268000  \n",
       "Cabin5                 600                  460700  "
      ]
     },
     "execution_count": 115,
     "metadata": {},
     "output_type": "execute_result"
    }
   ],
   "source": [
    "cabins_data"
   ]
  },
  {
   "cell_type": "markdown",
   "id": "655ce1f9-0e90-4fca-ad63-22969d2185a7",
   "metadata": {},
   "source": [
    "To obtain the coefficient estimates, we call function _lstsq_ (for least square) in module _linalg_ (for linear algebra) of the numpy package"
   ]
  },
  {
   "cell_type": "code",
   "execution_count": 116,
   "id": "6a1bbbac-fb56-41a3-908d-a6ef85cb0e69",
   "metadata": {},
   "outputs": [
    {
     "data": {
      "text/plain": [
       "array([[    25,      2,     50,      1,    500, 127900],\n",
       "       [    39,      3,     10,      1,   1000, 222100],\n",
       "       [    13,      2,     13,      1,   1000, 143750],\n",
       "       [    82,      5,     20,      2,    120, 268000],\n",
       "       [   130,      6,     10,      2,    600, 460700]])"
      ]
     },
     "execution_count": 116,
     "metadata": {},
     "output_type": "execute_result"
    }
   ],
   "source": [
    "cabins_data.values\n",
    "# here i could display only the values of the DataFrame ...."
   ]
  },
  {
   "cell_type": "code",
   "execution_count": 117,
   "id": "54efaf75-f7ba-41d1-bcb9-70cc04daa5eb",
   "metadata": {},
   "outputs": [],
   "source": [
    "values_excluding_last_column = cabins_data.iloc[:, :-1].values\n",
    "# Here i could display the DataFrame excluding the last column "
   ]
  },
  {
   "cell_type": "code",
   "execution_count": 118,
   "id": "7f4bd272-65d1-43a4-89b5-fa1ba1a585e1",
   "metadata": {},
   "outputs": [
    {
     "data": {
      "text/plain": [
       "array([[  25,    2,   50,    1,  500],\n",
       "       [  39,    3,   10,    1, 1000],\n",
       "       [  13,    2,   13,    1, 1000],\n",
       "       [  82,    5,   20,    2,  120],\n",
       "       [ 130,    6,   10,    2,  600]])"
      ]
     },
     "execution_count": 118,
     "metadata": {},
     "output_type": "execute_result"
    }
   ],
   "source": [
    "values_excluding_last_column"
   ]
  },
  {
   "cell_type": "code",
   "execution_count": 119,
   "id": "c3852dab-e8dc-41b8-bedc-38ec4c0d4f36",
   "metadata": {},
   "outputs": [],
   "source": [
    "# here i will display the content of only a column, let' say it is\n",
    "# the 'price in euros(output)' \n",
    "price_in_euros = cabins_data['price in euros(output)']"
   ]
  },
  {
   "cell_type": "code",
   "execution_count": 120,
   "id": "a088a612-27c6-4eb8-97e6-197de820bc5c",
   "metadata": {},
   "outputs": [
    {
     "data": {
      "text/plain": [
       "Cabin1    127900\n",
       "Cabin2    222100\n",
       "Cabin3    143750\n",
       "Cabin4    268000\n",
       "Cabin5    460700\n",
       "Name: price in euros(output), dtype: int64"
      ]
     },
     "execution_count": 120,
     "metadata": {},
     "output_type": "execute_result"
    }
   ],
   "source": [
    "price_in_euros"
   ]
  },
  {
   "cell_type": "code",
   "execution_count": 121,
   "id": "b52bab9b-ab27-4d5e-95d6-a5394d87f4fb",
   "metadata": {},
   "outputs": [],
   "source": [
    "# but the contents already displayed but with its index !!!!!\n",
    "# Now i will display the contents of the \"price in euros\" without\n",
    "# Indexing by parsing the above variable to numpy (as it was pandas)\n",
    "price_in_euros = cabins_data[\"price in euros(output)\"].to_numpy()"
   ]
  },
  {
   "cell_type": "code",
   "execution_count": 122,
   "id": "213b3a01-2607-4415-8d73-61c7ef03c690",
   "metadata": {},
   "outputs": [
    {
     "data": {
      "text/plain": [
       "array([127900, 222100, 143750, 268000, 460700])"
      ]
     },
     "execution_count": 122,
     "metadata": {},
     "output_type": "execute_result"
    }
   ],
   "source": [
    "price_in_euros # also known as predicted values "
   ]
  },
  {
   "cell_type": "code",
   "execution_count": 123,
   "id": "dc503721-ecbb-4099-8e16-f9431bed4f27",
   "metadata": {},
   "outputs": [
    {
     "name": "stderr",
     "output_type": "stream",
     "text": [
      "/var/folders/l0/pfj47cbn39zdt1rp6j81cy_m0000gp/T/ipykernel_5075/3600639294.py:7: FutureWarning: `rcond` parameter will change to the default of machine precision times ``max(M, N)`` where M and N are the input matrix dimensions.\n",
      "To use the future default and silence this warning we advise to pass `rcond=None`, to keep using the old, explicitly pass `rcond=-1`.\n",
      "  least_squares = np.linalg.lstsq(values_excluding_last_column, price_in_euros)[0]\n"
     ]
    }
   ],
   "source": [
    "# now i have two array variables ready for processing\n",
    "# 1) values_excluding_last_column\n",
    "# 2) price_in_euros predicted values \n",
    "# now i am going to use the (lstsq) function in module (linalg) of the numpy package ...\n",
    "# to calculate the Least Squares which is also the Coefficients vector\n",
    "\n",
    "least_squares = np.linalg.lstsq(values_excluding_last_column, price_in_euros)[0]"
   ]
  },
  {
   "cell_type": "code",
   "execution_count": 124,
   "id": "52abb405-68d1-4b65-bb3d-000e42c00669",
   "metadata": {},
   "outputs": [
    {
     "data": {
      "text/plain": [
       "array([3000.,  200.,  -50., 5000.,  100.])"
      ]
     },
     "execution_count": 124,
     "metadata": {},
     "output_type": "execute_result"
    }
   ],
   "source": [
    "least_squares # Coefficients vector "
   ]
  },
  {
   "cell_type": "code",
   "execution_count": 127,
   "id": "e2967a1d-9aba-4094-b269-6d02e61a8519",
   "metadata": {},
   "outputs": [],
   "source": [
    "# Now i have the Least Squares  vector i can calculate the Coefficient vector\n",
    "observed_values = values_excluding_last_column @ least_squares"
   ]
  },
  {
   "cell_type": "code",
   "execution_count": 128,
   "id": "a248a91d-b9a7-4bfe-b621-91f44a40571f",
   "metadata": {},
   "outputs": [
    {
     "data": {
      "text/plain": [
       "array([127900., 222100., 143750., 268000., 460700.])"
      ]
     },
     "execution_count": 128,
     "metadata": {},
     "output_type": "execute_result"
    }
   ],
   "source": [
    "observed_values"
   ]
  },
  {
   "cell_type": "markdown",
   "id": "679ca052-5693-4a66-8d29-41b7df19ed96",
   "metadata": {},
   "source": [
    "In Linear algebra, the Coeffiecients (often refered to as beta Coefficients) are calculated using the (Least Squars method). \n",
    "The formula to finde these Coefficients is :\n",
    "\n",
    "$$\\beta = (X^T X)^{-1} X^T y$$\n"
   ]
  },
  {
   "cell_type": "markdown",
   "id": "407677fd-237f-454a-8031-1ca2578de2c5",
   "metadata": {},
   "source": [
    "* beta is the vector of Coefficients\n",
    "  \n",
    "* X is the matrix of input data values (with each column represents an observation and each column representing a feature)\n",
    "\n",
    "* y is the vector of observed values (the target variable)\n",
    "\n",
    "__Coefficients beta are calculated using the least squares method applied to the data values matix (X) and the observed values vector (y)__"
   ]
  },
  {
   "cell_type": "markdown",
   "id": "42ddc9fc-f1c3-466d-ab3f-8ced863171b5",
   "metadata": {},
   "source": [
    "$NOTE:$\n",
    "\n",
    "We print out both the Coefficients estimates & the predicted values by plugging in these values in the Model and using the @ operator as before.\n",
    "\n",
    "So the Coefficients vector is [3000, 200, -50, 5000, 1000]\n",
    "\n",
    "The second output \"observed_values\" vector is [127900, 222100, 143750, 268000, 460700] "
   ]
  },
  {
   "cell_type": "markdown",
   "id": "5200b1e6-eb36-4836-b433-703f70a4d01d",
   "metadata": {},
   "source": [
    "So why did we say that the linear regression model will not be able to predict perfectly?\n",
    "\n",
    "The explanation for the unexpected perfect predictions in these five cases is that the model is always able to perfectly match the ouput values used as the data if the number of cases is less than or equal to the number of the Coefficients in the model. In the above example, both are five so the perfect match is actually no surprise...."
   ]
  },
  {
   "cell_type": "code",
   "execution_count": 143,
   "id": "0fbf81e7-6c61-4d1b-8eda-cb3ca638274d",
   "metadata": {},
   "outputs": [],
   "source": [
    "cabin6 = np.array ([115, 6, 10, 1, 550]) # features"
   ]
  },
  {
   "cell_type": "code",
   "execution_count": 144,
   "id": "a05a0c61-550d-44f8-b1e4-010bce9fdeeb",
   "metadata": {},
   "outputs": [],
   "source": [
    "Coefficients = np.array ([3000, 200, -50, 5000, 100]) "
   ]
  },
  {
   "cell_type": "code",
   "execution_count": 146,
   "id": "cc75af57-de32-4e5f-beaf-4fc421ec8083",
   "metadata": {},
   "outputs": [
    {
     "name": "stdout",
     "output_type": "stream",
     "text": [
      "405700\n"
     ]
    }
   ],
   "source": [
    "print( cabin6 @ Coefficients) "
   ]
  },
  {
   "cell_type": "code",
   "execution_count": 148,
   "id": "cfe90d36-6918-4ae8-be6f-b40c91d20419",
   "metadata": {},
   "outputs": [],
   "source": [
    "cabin7 = np.array([120, 5.5, 7, 2, 750])"
   ]
  },
  {
   "cell_type": "code",
   "execution_count": 149,
   "id": "4e6d8cff-be89-4eb7-8660-bb794e96ff10",
   "metadata": {},
   "outputs": [
    {
     "data": {
      "text/plain": [
       "445750.0"
      ]
     },
     "execution_count": 149,
     "metadata": {},
     "output_type": "execute_result"
    }
   ],
   "source": [
    "cabin7 @ Coefficients"
   ]
  },
  {
   "cell_type": "markdown",
   "id": "856b8c31-8a59-47aa-b223-e001fe565d28",
   "metadata": {},
   "source": [
    "### Shouldn't more data lead to better predictions, not worse?\n",
    "\n",
    "Well, yes and no, This question may have popped into your head and rightly so. If you have heard people talking about machine learning, you have probably heard large corporations that have massive amounts of data have the upper hand because they can build better models and predict for example user behavior more accurately. In the above example, we had perfect predictions when we had only five cabins in the data set, but when we got a sixth cabin, the accuracy decreases.\n",
    "\n",
    "The explanation for this has to do with a distinction between training data and test data. In the above example, we were evaluated the prediction accuracy on the same data as we trained the model.\n",
    "\n",
    "This is not the real use case because obviously we don't really need to \"predict\" any of the numbers that we already have. \n",
    "\n",
    "The real test will come when we use the trained model to predict the prices of new cabins that are not in the training data. \n",
    "\n",
    "We'll return to this very important issue and its implications on machine learning later"
   ]
  },
  {
   "cell_type": "markdown",
   "id": "5a0d1dcd-1dfe-4570-b950-cfce34c938b1",
   "metadata": {},
   "source": [
    "### NOTE:\n",
    "In linear regression model, the term 'output' can refer to either 'observed' output or the predicted output, depending on the context:\n",
    "\n",
    "1- Actual Output (Observed Values): These are the real values from tha dataset that you are trying to model, in the context of training model, the actual output referes to the values on the target variable that you are trying to predict. These values are used to train the model and calculate the coefficients.\n",
    "\n",
    "\n",
    "2- Predicted Output: These are the values that the linear regression model predicts based on the input features. Once the model has been trianed using the actual output, it can be used to make predictions on anew data or on the training data itself."
   ]
  },
  {
   "cell_type": "markdown",
   "id": "febdb80a-451e-4e20-ac0c-6742eb65b0aa",
   "metadata": {},
   "source": [
    "$$ Good Bye $$"
   ]
  },
  {
   "cell_type": "code",
   "execution_count": null,
   "id": "62d1c121-b639-43d0-bb67-5658caf564f3",
   "metadata": {},
   "outputs": [],
   "source": []
  }
 ],
 "metadata": {
  "kernelspec": {
   "display_name": "Python 3 (ipykernel)",
   "language": "python",
   "name": "python3"
  },
  "language_info": {
   "codemirror_mode": {
    "name": "ipython",
    "version": 3
   },
   "file_extension": ".py",
   "mimetype": "text/x-python",
   "name": "python",
   "nbconvert_exporter": "python",
   "pygments_lexer": "ipython3",
   "version": "3.9.19"
  }
 },
 "nbformat": 4,
 "nbformat_minor": 5
}
